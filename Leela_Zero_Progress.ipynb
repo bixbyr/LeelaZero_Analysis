{
  "nbformat": 4,
  "nbformat_minor": 0,
  "metadata": {
    "colab": {
      "name": "Leela Zero Progress.ipynb",
      "version": "0.3.2",
      "provenance": [],
      "collapsed_sections": []
    },
    "kernelspec": {
      "name": "python3",
      "display_name": "Python 3"
    }
  },
  "cells": [
    {
      "cell_type": "markdown",
      "metadata": {
        "id": "view-in-github",
        "colab_type": "text"
      },
      "source": [
        "[View in Colaboratory](https://colab.research.google.com/github/bixbyr/LeelaZero_Analysis/blob/master/Leela_Zero_Progress.ipynb)"
      ]
    },
    {
      "metadata": {
        "id": "Ns0nyC-zDXik",
        "colab_type": "code",
        "colab": {
          "base_uri": "https://localhost:8080/",
          "height": 34
        },
        "outputId": "147bddfc-96b0-4b26-9c6d-c4509abc4816"
      },
      "cell_type": "code",
      "source": [
        "!pip install -q git+https://github.com/altair-viz/altair\n",
        "import altair as alt\n",
        "import pandas as pd\n",
        "from bs4 import BeautifulSoup\n",
        "import urllib3\n",
        "\n",
        "alt.renderers.enable('colab')"
      ],
      "execution_count": 14,
      "outputs": [
        {
          "output_type": "execute_result",
          "data": {
            "text/plain": [
              "RendererRegistry.enable('colab')"
            ]
          },
          "metadata": {
            "tags": []
          },
          "execution_count": 14
        }
      ]
    },
    {
      "metadata": {
        "id": "G8TEbmrcF_Ky",
        "colab_type": "code",
        "colab": {
          "base_uri": "https://localhost:8080/",
          "height": 34
        },
        "outputId": "26d2a7b2-c14a-4506-dfce-831720d50fe6"
      },
      "cell_type": "code",
      "source": [
        "http = urllib3.PoolManager()\n",
        "soup = BeautifulSoup(http.request('GET', 'http://zero.sjeng.org/').data, 'html.parser')\n",
        "\n",
        "table = soup.body.table\n",
        "columns = [c.string for c in table.contents[2].find_all(\"th\")]\n",
        "print(columns)\n",
        "\n",
        "row_data = []\n",
        "for r in table.find_all('tr'):\n",
        "  row_contents = [c.string for c in r.find_all(\"td\")]\n",
        "  if len(row_contents) > 0:\n",
        "    row_data.append(row_contents)\n",
        "\n",
        "df = pd.DataFrame.from_records(row_data, columns=columns)\n",
        "df[\"#\"] = pd.to_numeric(df[\"#\"])\n",
        "df[\"Games\"] = pd.to_numeric(df[\"Games\"])\n",
        "df.rename(columns={\"#\": \"Network #\"}, inplace=True)"
      ],
      "execution_count": 15,
      "outputs": [
        {
          "output_type": "stream",
          "text": [
            "['#', 'Upload Date', 'Hash', 'Size', 'Elo', 'Games', 'Training #']\n"
          ],
          "name": "stdout"
        }
      ]
    },
    {
      "metadata": {
        "id": "fVvEewYAQxE3",
        "colab_type": "code",
        "colab": {
          "base_uri": "https://localhost:8080/",
          "height": 389
        },
        "outputId": "110d87d3-46d4-4f82-95b6-fed5f566f383"
      },
      "cell_type": "code",
      "source": [
        "chart = alt.Chart(df).mark_bar().encode(\n",
        "    x=\"Network #\",\n",
        "    y=\"Games\",\n",
        "    color=\"Size\"\n",
        ")\n",
        "chart"
      ],
      "execution_count": 16,
      "outputs": [
        {
          "output_type": "execute_result",
          "data": {
            "text/plain": [
              "Chart({\n",
              "  data:      Network #       Upload Date      Hash    Size    Elo   Games Training #\n",
              "  0          144  2018-05-25 00:27  9e882e52  192x15  11286   82473    7488204\n",
              "  1          143  2018-05-24 03:54  057adf2c  192x15  11252    9794    7461063\n",
              "  2          142  2018-05-21 19:45  7c6588ce  192x15  11206   30393    7434908\n",
              "  3          141  2018-05-20 14:59  11057dd7  192x15  11185   13366    7412196\n",
              "  4          140  2018-05-20 01:21  521b0868  192x15  11142    5553    7412196\n",
              "  5          139  2018-05-17 20:50  a39b64cc  192x15  11095   28474    7360230\n",
              "  6          138  2018-05-17 02:39  d8214630  192x15  11043    8822    7360230\n",
              "  7          137  2018-05-14 08:38  90560d92  192x15  10992   31531    7314541\n",
              "  8          136  2018-05-09 16:04  b6337c69  192x15  10959   50478    7251733\n",
              "  9          135  2018-05-08 00:50  05b723d0  192x15  10924   10769    7234321\n",
              "  10         134  2018-05-07 11:10  2fb02cfe  192x15  10880    4544    7234321\n",
              "  11         133  2018-05-07 06:38  4be6f310  192x15  10844    1496    7234321\n",
              "  12         132  2018-05-06 20:26  3737d7ce  192x15  10808    3248    7211113\n",
              "  13         131  2018-05-04 07:45  ecab83bb  192x15  10745   31498    7175793\n",
              "  14         130  2018-05-02 03:06  18e6a6c5  192x15  10710   61580    7100021\n",
              "  15         129  2018-04-29 09:00  cfb2ce28  192x15  10655   53716    7062848\n",
              "  16         128  2018-04-25 07:23  158603eb  192x15  10604   62391    7003809\n",
              "  17         127  2018-04-22 14:49  3f6c8dd8  192x15  10574   49315    6948814\n",
              "  18         126  2018-04-21 00:11  59bb7337  192x15  10548   10886    6916674\n",
              "  19         125  2018-04-18 04:43  e8601c38  192x15  10511   90912    6853079\n",
              "  20         124  2018-04-16 22:11  8a045bce  192x15  10487   39905    6807268\n",
              "  21         123  2018-04-14 11:38  f3231682  192x15  10425   64768    6742959\n",
              "  22         122  2018-04-13 22:02  c0cb605b  192x15  10394   16730    6742959\n",
              "  23         121  2018-04-12 01:36  5d6d9c5b  192x15  10343   33171    6698902\n",
              "  24         120  2018-04-10 10:50  8c67ecdc  192x15  10318   21462    6677575\n",
              "  25         119  2018-04-09 21:12  5838db67  192x15  10281    6320    6677575\n",
              "  26         118  2018-04-09 18:54  02e663b0  192x15  10244    4338    6677575\n",
              "  27         117  2018-04-09 10:35  ba748d40  192x15  10214    7851    6642917\n",
              "  28         116  2018-04-04 09:37  39d46507  128x10   9888  225231    6435001\n",
              "  29         115  2018-04-03 19:09  8ed44722  128x10   9851   28593    6412632\n",
              "  ..         ...               ...       ...     ...    ...     ...        ...\n",
              "  115         29  2017-12-19 22:29  657f91c7    64x5   4244   34864    1215129\n",
              "  116         28  2017-12-19 14:18  154eaebd    64x5   4168   12493    1204550\n",
              "  117         27  2017-12-18 23:44  ce1aa643    64x5   4010   17064    1184723\n",
              "  118         26  2017-12-18 07:50  0eb8b23b    64x5   3964   23810    1163371\n",
              "  119         25  2017-12-17 15:54  808ac5f3    64x5   3808   15947    1143566\n",
              "  120         24  2017-12-16 16:46  3382a7d3    64x5   3726   34833    1105000\n",
              "  121         23  2017-12-16 06:25  4e4d09be    64x5   3523    7009    1095000\n",
              "  122         22  2017-12-15 21:09  3ba92804    64x5   3425   16320    1080000\n",
              "  123         21  2017-12-15 16:46  d11131e3    64x5   3305    6650    1070000\n",
              "  124         20  2017-12-14 21:19  251b7ca8    64x5   3197   27205    1050000\n",
              "  125         19  2017-12-14 15:48  e671af6f    64x5   3077    7939    1035000\n",
              "  126         18  2017-12-13 06:21  4701bb9f    64x5   2923   24559    1000000\n",
              "  127         17  2017-12-12 06:33  5bcb392e    64x5   2893   38353     970000\n",
              "  128         16  2017-12-11 18:59  fe7a6c28    64x5   2604   20389     955000\n",
              "  129         15  2017-12-11 12:07  a0d3531f    64x5   2381    9515     945000\n",
              "  130         14  2017-12-11 06:43  96bf20e7    64x5   2255    7192     920000\n",
              "  131         13  2017-12-09 19:13  1607dbea    64x5   1927   28131     890000\n",
              "  132         12  2017-12-09 08:22  eebb910d    64x5   1732   18400     860000\n",
              "  133         11  2017-12-07 13:07  2184b750    64x5   1665   68977     815000\n",
              "  134         10  2017-12-06 09:42  ad8a1d02    64x5   1650   75393     735000\n",
              "  135          9  2017-12-03 22:46  6f274ab1    64x5   1523  137868     585000\n",
              "  136          8  2017-11-30 22:25  22373747    64x5   1282  111578     485000\n",
              "  137          7  2017-11-25 13:16  92c658d7    64x5    917  192872     292000\n",
              "  138          6  2017-11-24 16:08  a1151640    64x5    892   36363     265000\n",
              "  139          5  2017-11-21 14:37  1ac2638d    64x5    542  104810     137000\n",
              "  140          4  2017-11-21 08:06  857b975e    32x4    532   15178     107000\n",
              "  141          3  2017-11-19 11:44  4d9a5cfc    32x4    477   76711      62000\n",
              "  142          2  2017-11-17 08:09  fe3f6afd    32x4     91   44001      19000\n",
              "  143          1  2017-11-15 17:07  e6779c9b     8x1    164   23639       9000\n",
              "  144          0  2017-11-10 13:04  d645af97     8x1      0   15036          0\n",
              "  \n",
              "  [145 rows x 7 columns],\n",
              "  encoding: EncodingWithFacet({\n",
              "    color: Color({\n",
              "      shorthand: 'Size'\n",
              "    }),\n",
              "    x: X({\n",
              "      shorthand: 'Network #'\n",
              "    }),\n",
              "    y: Y({\n",
              "      shorthand: 'Games'\n",
              "    })\n",
              "  }),\n",
              "  mark: 'bar'\n",
              "})"
            ],
            "text/html": [
              "\n",
              "<!DOCTYPE html>\n",
              "<html>\n",
              "<head>\n",
              "  <style>\n",
              "    .vega-actions a {\n",
              "        margin-right: 12px;\n",
              "        color: #757575;\n",
              "        font-weight: normal;\n",
              "        font-size: 13px;\n",
              "    }\n",
              "    .error {\n",
              "        color: red;\n",
              "    }\n",
              "  </style>\n",
              "\n",
              "<script src=\"https://cdn.jsdelivr.net/npm//vega@3.2\"></script>\n",
              "<script src=\"https://cdn.jsdelivr.net/npm//vega-lite@2.4.1\"></script>\n",
              "<script src=\"https://cdn.jsdelivr.net/npm//vega-embed@3.0\"></script>\n",
              "\n",
              "</head>\n",
              "<body>\n",
              "  <div id=\"vis\"></div>\n",
              "  <script type=\"text/javascript\">\n",
              "    var spec = {\"config\": {\"view\": {\"width\": 400, \"height\": 300}}, \"data\": {\"values\": [{\"Network #\": 144, \"Upload Date\": \"2018-05-25 00:27\", \"Hash\": \"9e882e52\", \"Size\": \"192x15\", \"Elo\": \"11286\", \"Games\": 82473, \"Training #\": \"7488204\"}, {\"Network #\": 143, \"Upload Date\": \"2018-05-24 03:54\", \"Hash\": \"057adf2c\", \"Size\": \"192x15\", \"Elo\": \"11252\", \"Games\": 9794, \"Training #\": \"7461063\"}, {\"Network #\": 142, \"Upload Date\": \"2018-05-21 19:45\", \"Hash\": \"7c6588ce\", \"Size\": \"192x15\", \"Elo\": \"11206\", \"Games\": 30393, \"Training #\": \"7434908\"}, {\"Network #\": 141, \"Upload Date\": \"2018-05-20 14:59\", \"Hash\": \"11057dd7\", \"Size\": \"192x15\", \"Elo\": \"11185\", \"Games\": 13366, \"Training #\": \"7412196\"}, {\"Network #\": 140, \"Upload Date\": \"2018-05-20 01:21\", \"Hash\": \"521b0868\", \"Size\": \"192x15\", \"Elo\": \"11142\", \"Games\": 5553, \"Training #\": \"7412196\"}, {\"Network #\": 139, \"Upload Date\": \"2018-05-17 20:50\", \"Hash\": \"a39b64cc\", \"Size\": \"192x15\", \"Elo\": \"11095\", \"Games\": 28474, \"Training #\": \"7360230\"}, {\"Network #\": 138, \"Upload Date\": \"2018-05-17 02:39\", \"Hash\": \"d8214630\", \"Size\": \"192x15\", \"Elo\": \"11043\", \"Games\": 8822, \"Training #\": \"7360230\"}, {\"Network #\": 137, \"Upload Date\": \"2018-05-14 08:38\", \"Hash\": \"90560d92\", \"Size\": \"192x15\", \"Elo\": \"10992\", \"Games\": 31531, \"Training #\": \"7314541\"}, {\"Network #\": 136, \"Upload Date\": \"2018-05-09 16:04\", \"Hash\": \"b6337c69\", \"Size\": \"192x15\", \"Elo\": \"10959\", \"Games\": 50478, \"Training #\": \"7251733\"}, {\"Network #\": 135, \"Upload Date\": \"2018-05-08 00:50\", \"Hash\": \"05b723d0\", \"Size\": \"192x15\", \"Elo\": \"10924\", \"Games\": 10769, \"Training #\": \"7234321\"}, {\"Network #\": 134, \"Upload Date\": \"2018-05-07 11:10\", \"Hash\": \"2fb02cfe\", \"Size\": \"192x15\", \"Elo\": \"10880\", \"Games\": 4544, \"Training #\": \"7234321\"}, {\"Network #\": 133, \"Upload Date\": \"2018-05-07 06:38\", \"Hash\": \"4be6f310\", \"Size\": \"192x15\", \"Elo\": \"10844\", \"Games\": 1496, \"Training #\": \"7234321\"}, {\"Network #\": 132, \"Upload Date\": \"2018-05-06 20:26\", \"Hash\": \"3737d7ce\", \"Size\": \"192x15\", \"Elo\": \"10808\", \"Games\": 3248, \"Training #\": \"7211113\"}, {\"Network #\": 131, \"Upload Date\": \"2018-05-04 07:45\", \"Hash\": \"ecab83bb\", \"Size\": \"192x15\", \"Elo\": \"10745\", \"Games\": 31498, \"Training #\": \"7175793\"}, {\"Network #\": 130, \"Upload Date\": \"2018-05-02 03:06\", \"Hash\": \"18e6a6c5\", \"Size\": \"192x15\", \"Elo\": \"10710\", \"Games\": 61580, \"Training #\": \"7100021\"}, {\"Network #\": 129, \"Upload Date\": \"2018-04-29 09:00\", \"Hash\": \"cfb2ce28\", \"Size\": \"192x15\", \"Elo\": \"10655\", \"Games\": 53716, \"Training #\": \"7062848\"}, {\"Network #\": 128, \"Upload Date\": \"2018-04-25 07:23\", \"Hash\": \"158603eb\", \"Size\": \"192x15\", \"Elo\": \"10604\", \"Games\": 62391, \"Training #\": \"7003809\"}, {\"Network #\": 127, \"Upload Date\": \"2018-04-22 14:49\", \"Hash\": \"3f6c8dd8\", \"Size\": \"192x15\", \"Elo\": \"10574\", \"Games\": 49315, \"Training #\": \"6948814\"}, {\"Network #\": 126, \"Upload Date\": \"2018-04-21 00:11\", \"Hash\": \"59bb7337\", \"Size\": \"192x15\", \"Elo\": \"10548\", \"Games\": 10886, \"Training #\": \"6916674\"}, {\"Network #\": 125, \"Upload Date\": \"2018-04-18 04:43\", \"Hash\": \"e8601c38\", \"Size\": \"192x15\", \"Elo\": \"10511\", \"Games\": 90912, \"Training #\": \"6853079\"}, {\"Network #\": 124, \"Upload Date\": \"2018-04-16 22:11\", \"Hash\": \"8a045bce\", \"Size\": \"192x15\", \"Elo\": \"10487\", \"Games\": 39905, \"Training #\": \"6807268\"}, {\"Network #\": 123, \"Upload Date\": \"2018-04-14 11:38\", \"Hash\": \"f3231682\", \"Size\": \"192x15\", \"Elo\": \"10425\", \"Games\": 64768, \"Training #\": \"6742959\"}, {\"Network #\": 122, \"Upload Date\": \"2018-04-13 22:02\", \"Hash\": \"c0cb605b\", \"Size\": \"192x15\", \"Elo\": \"10394\", \"Games\": 16730, \"Training #\": \"6742959\"}, {\"Network #\": 121, \"Upload Date\": \"2018-04-12 01:36\", \"Hash\": \"5d6d9c5b\", \"Size\": \"192x15\", \"Elo\": \"10343\", \"Games\": 33171, \"Training #\": \"6698902\"}, {\"Network #\": 120, \"Upload Date\": \"2018-04-10 10:50\", \"Hash\": \"8c67ecdc\", \"Size\": \"192x15\", \"Elo\": \"10318\", \"Games\": 21462, \"Training #\": \"6677575\"}, {\"Network #\": 119, \"Upload Date\": \"2018-04-09 21:12\", \"Hash\": \"5838db67\", \"Size\": \"192x15\", \"Elo\": \"10281\", \"Games\": 6320, \"Training #\": \"6677575\"}, {\"Network #\": 118, \"Upload Date\": \"2018-04-09 18:54\", \"Hash\": \"02e663b0\", \"Size\": \"192x15\", \"Elo\": \"10244\", \"Games\": 4338, \"Training #\": \"6677575\"}, {\"Network #\": 117, \"Upload Date\": \"2018-04-09 10:35\", \"Hash\": \"ba748d40\", \"Size\": \"192x15\", \"Elo\": \"10214\", \"Games\": 7851, \"Training #\": \"6642917\"}, {\"Network #\": 116, \"Upload Date\": \"2018-04-04 09:37\", \"Hash\": \"39d46507\", \"Size\": \"128x10\", \"Elo\": \"9888\", \"Games\": 225231, \"Training #\": \"6435001\"}, {\"Network #\": 115, \"Upload Date\": \"2018-04-03 19:09\", \"Hash\": \"8ed44722\", \"Size\": \"128x10\", \"Elo\": \"9851\", \"Games\": 28593, \"Training #\": \"6412632\"}, {\"Network #\": 114, \"Upload Date\": \"2018-03-31 22:24\", \"Hash\": \"2e3863ed\", \"Size\": \"128x10\", \"Elo\": \"9805\", \"Games\": 137299, \"Training #\": \"6270470\"}, {\"Network #\": 113, \"Upload Date\": \"2018-03-30 14:25\", \"Hash\": \"8fc22bca\", \"Size\": \"128x10\", \"Elo\": \"9769\", \"Games\": 46687, \"Training #\": \"6229520\"}, {\"Network #\": 112, \"Upload Date\": \"2018-03-30 10:21\", \"Hash\": \"2f4d7274\", \"Size\": \"128x10\", \"Elo\": \"9740\", \"Games\": 4301, \"Training #\": \"6206257\"}, {\"Network #\": 111, \"Upload Date\": \"2018-03-29 10:07\", \"Hash\": \"e9c2c70b\", \"Size\": \"128x10\", \"Elo\": \"9708\", \"Games\": 37343, \"Training #\": \"6182848\"}, {\"Network #\": 110, \"Upload Date\": \"2018-03-28 22:19\", \"Hash\": \"4c7dd084\", \"Size\": \"128x10\", \"Elo\": \"9659\", \"Games\": 24163, \"Training #\": \"6135456\"}, {\"Network #\": 109, \"Upload Date\": \"2018-03-25 11:37\", \"Hash\": \"85c6f2ad\", \"Size\": \"128x10\", \"Elo\": \"9620\", \"Games\": 162524, \"Training #\": \"5974726\"}, {\"Network #\": 108, \"Upload Date\": \"2018-03-19 17:20\", \"Hash\": \"1ccb7342\", \"Size\": \"128x10\", \"Elo\": \"9571\", \"Games\": 245927, \"Training #\": \"5736502\"}, {\"Network #\": 107, \"Upload Date\": \"2018-03-18 20:52\", \"Hash\": \"b7768081\", \"Size\": \"128x10\", \"Elo\": \"9540\", \"Games\": 36771, \"Training #\": \"5714302\"}, {\"Network #\": 106, \"Upload Date\": \"2018-03-18 17:35\", \"Hash\": \"b02f6fac\", \"Size\": \"128x10\", \"Elo\": \"9480\", \"Games\": 5908, \"Training #\": \"5714302\"}, {\"Network #\": 105, \"Upload Date\": \"2018-03-15 08:32\", \"Hash\": \"ed26f634\", \"Size\": \"128x10\", \"Elo\": \"9431\", \"Games\": 215543, \"Training #\": \"5454021\"}, {\"Network #\": 104, \"Upload Date\": \"2018-03-13 14:42\", \"Hash\": \"193437be\", \"Size\": \"128x10\", \"Elo\": \"9388\", \"Games\": 141682, \"Training #\": \"5309030\"}, {\"Network #\": 103, \"Upload Date\": \"2018-03-13 08:07\", \"Hash\": \"d996fdc3\", \"Size\": \"128x10\", \"Elo\": \"9344\", \"Games\": 30814, \"Training #\": \"5309030\"}, {\"Network #\": 102, \"Upload Date\": \"2018-03-12 15:00\", \"Hash\": \"0f6a8c5f\", \"Size\": \"128x10\", \"Elo\": \"9288\", \"Games\": 64219, \"Training #\": \"5253604\"}, {\"Network #\": 101, \"Upload Date\": \"2018-03-11 20:44\", \"Hash\": \"18827fa7\", \"Size\": \"128x10\", \"Elo\": \"9254\", \"Games\": 73089, \"Training #\": \"5147508\"}, {\"Network #\": 100, \"Upload Date\": \"2018-03-09 14:49\", \"Hash\": \"545ca6d6\", \"Size\": \"128x10\", \"Elo\": \"9203\", \"Games\": 164566, \"Training #\": \"5031728\"}, {\"Network #\": 99, \"Upload Date\": \"2018-03-08 10:19\", \"Hash\": \"b3a80524\", \"Size\": \"128x10\", \"Elo\": \"9162\", \"Games\": 69690, \"Training #\": \"4973334\"}, {\"Network #\": 98, \"Upload Date\": \"2018-03-07 21:11\", \"Hash\": \"75603ad2\", \"Size\": \"128x10\", \"Elo\": \"9106\", \"Games\": 30483, \"Training #\": \"4937679\"}, {\"Network #\": 97, \"Upload Date\": \"2018-03-06 18:53\", \"Hash\": \"fc2b9ac3\", \"Size\": \"128x10\", \"Elo\": \"9066\", \"Games\": 62153, \"Training #\": \"4873768\"}, {\"Network #\": 96, \"Upload Date\": \"2018-03-06 12:59\", \"Hash\": \"0255d914\", \"Size\": \"128x10\", \"Elo\": \"9029\", \"Games\": 9463, \"Training #\": \"4848149\"}, {\"Network #\": 95, \"Upload Date\": \"2018-03-06 03:04\", \"Hash\": \"5b90bd32\", \"Size\": \"128x10\", \"Elo\": \"8990\", \"Games\": 19222, \"Training #\": \"4848149\"}, {\"Network #\": 94, \"Upload Date\": \"2018-03-06 00:35\", \"Hash\": \"0b4e36d7\", \"Size\": \"128x10\", \"Elo\": \"8947\", \"Games\": 3254, \"Training #\": \"4848149\"}, {\"Network #\": 93, \"Upload Date\": \"2018-03-05 20:46\", \"Hash\": \"f1383525\", \"Size\": \"128x10\", \"Elo\": \"8909\", \"Games\": 5328, \"Training #\": \"4813029\"}, {\"Network #\": 92, \"Upload Date\": \"2018-03-05 20:42\", \"Hash\": \"ae205d8b\", \"Size\": \"128x10\", \"Elo\": \"8875\", \"Games\": 1036, \"Training #\": \"4813029\"}, {\"Network #\": 91, \"Upload Date\": \"2018-03-04 00:12\", \"Hash\": \"b3b00c6d\", \"Size\": \"128x6\", \"Elo\": \"8628\", \"Games\": 136778, \"Training #\": \"4710167\"}, {\"Network #\": 90, \"Upload Date\": \"2018-03-03 05:13\", \"Hash\": \"1a198f8d\", \"Size\": \"128x6\", \"Elo\": \"8601\", \"Games\": 51784, \"Training #\": \"4626095\"}, {\"Network #\": 89, \"Upload Date\": \"2018-02-27 11:13\", \"Hash\": \"53f4cc79\", \"Size\": \"128x6\", \"Elo\": \"8545\", \"Games\": 160925, \"Training #\": \"4460651\"}, {\"Network #\": 88, \"Upload Date\": \"2018-02-26 09:52\", \"Hash\": \"a91721af\", \"Size\": \"128x6\", \"Elo\": \"8503\", \"Games\": 57693, \"Training #\": \"4438683\"}, {\"Network #\": 87, \"Upload Date\": \"2018-02-26 03:38\", \"Hash\": \"92dd0397\", \"Size\": \"128x6\", \"Elo\": \"8540\", \"Games\": 16965, \"Training #\": \"4409896\"}, {\"Network #\": 86, \"Upload Date\": \"2018-02-25 09:09\", \"Hash\": \"9ac646d7\", \"Size\": \"128x6\", \"Elo\": \"8508\", \"Games\": 52879, \"Training #\": \"4368120\"}, {\"Network #\": 85, \"Upload Date\": \"2018-02-24 12:46\", \"Hash\": \"8ee49736\", \"Size\": \"128x6\", \"Elo\": \"8460\", \"Games\": 32922, \"Training #\": \"4340310\"}, {\"Network #\": 84, \"Upload Date\": \"2018-02-24 11:11\", \"Hash\": \"566f5276\", \"Size\": \"128x6\", \"Elo\": \"8400\", \"Games\": 1787, \"Training #\": \"4340310\"}, {\"Network #\": 83, \"Upload Date\": \"2018-02-21 04:01\", \"Hash\": \"af9ce63c\", \"Size\": \"128x6\", \"Elo\": \"8358\", \"Games\": 176753, \"Training #\": \"4145159\"}, {\"Network #\": 82, \"Upload Date\": \"2018-02-18 20:24\", \"Hash\": \"0fb68ccf\", \"Size\": \"128x6\", \"Elo\": \"8290\", \"Games\": 133202, \"Training #\": \"4011534\"}, {\"Network #\": 81, \"Upload Date\": \"2018-02-18 08:34\", \"Hash\": \"5e8f3a94\", \"Size\": \"128x6\", \"Elo\": \"8153\", \"Games\": 27224, \"Training #\": \"3989045\"}, {\"Network #\": 80, \"Upload Date\": \"2018-02-17 08:10\", \"Hash\": \"e1156879\", \"Size\": \"128x6\", \"Elo\": \"8115\", \"Games\": 41513, \"Training #\": \"3961989\"}, {\"Network #\": 79, \"Upload Date\": \"2018-02-16 18:36\", \"Hash\": \"8f0031dd\", \"Size\": \"128x6\", \"Elo\": \"8077\", \"Games\": 15741, \"Training #\": \"3938361\"}, {\"Network #\": 78, \"Upload Date\": \"2018-02-14 17:32\", \"Hash\": \"b8adb7da\", \"Size\": \"128x6\", \"Elo\": \"8032\", \"Games\": 84323, \"Training #\": \"3842195\"}, {\"Network #\": 77, \"Upload Date\": \"2018-02-12 05:06\", \"Hash\": \"5ac1d898\", \"Size\": \"128x6\", \"Elo\": \"7997\", \"Games\": 96149, \"Training #\": \"3757172\"}, {\"Network #\": 76, \"Upload Date\": \"2018-02-11 05:42\", \"Hash\": \"cde9c8d4\", \"Size\": \"128x6\", \"Elo\": \"7957\", \"Games\": 25684, \"Training #\": \"3734571\"}, {\"Network #\": 75, \"Upload Date\": \"2018-02-08 15:01\", \"Hash\": \"66650b15\", \"Size\": \"128x6\", \"Elo\": \"7917\", \"Games\": 139821, \"Training #\": \"3584236\"}, {\"Network #\": 74, \"Upload Date\": \"2018-02-07 08:26\", \"Hash\": \"d6f3a68b\", \"Size\": \"128x6\", \"Elo\": \"7853\", \"Games\": 56632, \"Training #\": \"3524257\"}, {\"Network #\": 73, \"Upload Date\": \"2018-02-05 23:06\", \"Hash\": \"54bfb7b8\", \"Size\": \"128x6\", \"Elo\": \"7799\", \"Games\": 54992, \"Training #\": \"3486475\"}, {\"Network #\": 72, \"Upload Date\": \"2018-02-04 18:06\", \"Hash\": \"63498669\", \"Size\": \"128x6\", \"Elo\": \"7757\", \"Games\": 33063, \"Training #\": \"3450165\"}, {\"Network #\": 71, \"Upload Date\": \"2018-02-01 15:31\", \"Hash\": \"257aeeb8\", \"Size\": \"128x6\", \"Elo\": \"7720\", \"Games\": 113705, \"Training #\": \"3331818\"}, {\"Network #\": 70, \"Upload Date\": \"2018-01-31 06:43\", \"Hash\": \"adf2d2f4\", \"Size\": \"128x6\", \"Elo\": \"7640\", \"Games\": 43778, \"Training #\": \"3283742\"}, {\"Network #\": 69, \"Upload Date\": \"2018-01-30 15:32\", \"Hash\": \"d16fa4c3\", \"Size\": \"128x6\", \"Elo\": \"7606\", \"Games\": 34720, \"Training #\": \"3254097\"}, {\"Network #\": 68, \"Upload Date\": \"2018-01-30 08:57\", \"Hash\": \"af4f49f1\", \"Size\": \"128x6\", \"Elo\": \"7521\", \"Games\": 8196, \"Training #\": \"3254097\"}, {\"Network #\": 67, \"Upload Date\": \"2018-01-29 19:42\", \"Hash\": \"7e7106d3\", \"Size\": \"128x6\", \"Elo\": \"7542\", \"Games\": 17154, \"Training #\": \"3238680\"}, {\"Network #\": 66, \"Upload Date\": \"2018-01-28 18:11\", \"Hash\": \"714a9e64\", \"Size\": \"128x6\", \"Elo\": \"7498\", \"Games\": 31646, \"Training #\": \"3190172\"}, {\"Network #\": 65, \"Upload Date\": \"2018-01-26 11:36\", \"Hash\": \"5773f44c\", \"Size\": \"128x6\", \"Elo\": \"7353\", \"Games\": 59781, \"Training #\": \"3146248\"}, {\"Network #\": 64, \"Upload Date\": \"2018-01-26 09:19\", \"Hash\": \"6169f3fe\", \"Size\": \"128x6\", \"Elo\": \"7318\", \"Games\": 2395, \"Training #\": \"3146248\"}, {\"Network #\": 63, \"Upload Date\": \"2018-01-26 01:23\", \"Hash\": \"879ad1b4\", \"Size\": \"128x6\", \"Elo\": \"7243\", \"Games\": 6708, \"Training #\": \"3139204\"}, {\"Network #\": 62, \"Upload Date\": \"2018-01-25 23:06\", \"Hash\": \"0f54f73a\", \"Size\": \"128x6\", \"Elo\": \"7135\", \"Games\": 974, \"Training #\": \"3139204\"}, {\"Network #\": 61, \"Upload Date\": \"2018-01-25 21:58\", \"Hash\": \"ded4b48e\", \"Size\": \"128x6\", \"Elo\": \"7011\", \"Games\": 692, \"Training #\": \"3139204\"}, {\"Network #\": 60, \"Upload Date\": \"2018-01-23 22:10\", \"Hash\": \"d9a5ed48\", \"Size\": \"128x6\", \"Elo\": \"6964\", \"Games\": 37246, \"Training #\": \"3098767\"}, {\"Network #\": 59, \"Upload Date\": \"2018-01-20 08:48\", \"Hash\": \"7fde81e8\", \"Size\": \"128x6\", \"Elo\": \"6876\", \"Games\": 119267, \"Training #\": \"2861140\"}, {\"Network #\": 58, \"Upload Date\": \"2018-01-20 08:47\", \"Hash\": \"ed002cf3\", \"Size\": \"128x6\", \"Elo\": \"6840\", \"Games\": 5985, \"Training #\": \"2861140\"}, {\"Network #\": 57, \"Upload Date\": \"2018-01-17 05:31\", \"Hash\": \"c83e1b6e\", \"Size\": \"64x5\", \"Elo\": \"6771\", \"Games\": 289293, \"Training #\": \"2669812\"}, {\"Network #\": 56, \"Upload Date\": \"2018-01-17 03:34\", \"Hash\": \"35df1f93\", \"Size\": \"64x5\", \"Elo\": \"6714\", \"Games\": 6077, \"Training #\": \"2669812\"}, {\"Network #\": 55, \"Upload Date\": \"2018-01-14 09:53\", \"Hash\": \"0db82470\", \"Size\": \"64x5\", \"Elo\": \"6652\", \"Games\": 219118, \"Training #\": \"2462345\"}, {\"Network #\": 54, \"Upload Date\": \"2018-01-10 15:33\", \"Hash\": \"46ff4b94\", \"Size\": \"64x5\", \"Elo\": \"6593\", \"Games\": 293458, \"Training #\": \"2160039\"}, {\"Network #\": 53, \"Upload Date\": \"2018-01-08 20:19\", \"Hash\": \"ffc1e51b\", \"Size\": \"64x5\", \"Elo\": \"6530\", \"Games\": 148665, \"Training #\": \"2002537\"}, {\"Network #\": 52, \"Upload Date\": \"2018-01-08 01:44\", \"Hash\": \"65e94e52\", \"Size\": \"64x5\", \"Elo\": \"6479\", \"Games\": 64842, \"Training #\": \"1937438\"}, {\"Network #\": 51, \"Upload Date\": \"2018-01-07 05:14\", \"Hash\": \"fca07541\", \"Size\": \"64x5\", \"Elo\": \"6421\", \"Games\": 62034, \"Training #\": \"1883473\"}, {\"Network #\": 50, \"Upload Date\": \"2018-01-06 10:43\", \"Hash\": \"391d850e\", \"Size\": \"64x5\", \"Elo\": \"6394\", \"Games\": 50985, \"Training #\": \"1832648\"}, {\"Network #\": 49, \"Upload Date\": \"2018-01-05 16:11\", \"Hash\": \"76347a12\", \"Size\": \"64x5\", \"Elo\": \"6356\", \"Games\": 51047, \"Training #\": \"1784838\"}, {\"Network #\": 48, \"Upload Date\": \"2018-01-04 01:44\", \"Hash\": \"55bf55dc\", \"Size\": \"64x5\", \"Elo\": \"6290\", \"Games\": 85722, \"Training #\": \"1703078\"}, {\"Network #\": 47, \"Upload Date\": \"2018-01-03 13:58\", \"Hash\": \"83015869\", \"Size\": \"64x5\", \"Elo\": \"6241\", \"Games\": 20105, \"Training #\": \"1675761\"}, {\"Network #\": 46, \"Upload Date\": \"2017-12-31 14:25\", \"Hash\": \"58da6176\", \"Size\": \"64x5\", \"Elo\": \"6071\", \"Games\": 111136, \"Training #\": \"1575173\"}, {\"Network #\": 45, \"Upload Date\": \"2017-12-31 05:38\", \"Hash\": \"40b94cfe\", \"Size\": \"64x5\", \"Elo\": \"6041\", \"Games\": 14049, \"Training #\": \"1560915\"}, {\"Network #\": 44, \"Upload Date\": \"2017-12-30 23:51\", \"Hash\": \"e5e72b39\", \"Size\": \"64x5\", \"Elo\": \"5992\", \"Games\": 9562, \"Training #\": \"1546436\"}, {\"Network #\": 43, \"Upload Date\": \"2017-12-30 00:34\", \"Hash\": \"7fcf3c16\", \"Size\": \"64x5\", \"Elo\": \"5883\", \"Games\": 35464, \"Training #\": \"1508179\"}, {\"Network #\": 42, \"Upload Date\": \"2017-12-28 22:50\", \"Hash\": \"39fe0ce3\", \"Size\": \"64x5\", \"Elo\": \"5723\", \"Games\": 30096, \"Training #\": \"1486547\"}, {\"Network #\": 41, \"Upload Date\": \"2017-12-28 12:49\", \"Hash\": \"097deeb9\", \"Size\": \"64x5\", \"Elo\": \"5678\", \"Games\": 11982, \"Training #\": \"1466072\"}, {\"Network #\": 40, \"Upload Date\": \"2017-12-27 22:10\", \"Hash\": \"30004a1d\", \"Size\": \"64x5\", \"Elo\": \"5558\", \"Games\": 14942, \"Training #\": \"1456313\"}, {\"Network #\": 39, \"Upload Date\": \"2017-12-27 08:50\", \"Hash\": \"509e5202\", \"Size\": \"64x5\", \"Elo\": \"5457\", \"Games\": 17652, \"Training #\": \"1440305\"}, {\"Network #\": 38, \"Upload Date\": \"2017-12-26 15:28\", \"Hash\": \"0c094151\", \"Size\": \"64x5\", \"Elo\": \"5277\", \"Games\": 19011, \"Training #\": \"1423989\"}, {\"Network #\": 37, \"Upload Date\": \"2017-12-26 14:17\", \"Hash\": \"c4611a60\", \"Size\": \"64x5\", \"Elo\": \"4957\", \"Games\": 775, \"Training #\": \"1400269\"}, {\"Network #\": 36, \"Upload Date\": \"2017-12-24 17:43\", \"Hash\": \"c99f1ae0\", \"Size\": \"64x5\", \"Elo\": \"4911\", \"Games\": 58915, \"Training #\": \"1360157\"}, {\"Network #\": 35, \"Upload Date\": \"2017-12-23 07:36\", \"Hash\": \"30f49ac5\", \"Size\": \"64x5\", \"Elo\": \"4855\", \"Games\": 48299, \"Training #\": \"1307026\"}, {\"Network #\": 34, \"Upload Date\": \"2017-12-23 05:27\", \"Hash\": \"696171c5\", \"Size\": \"64x5\", \"Elo\": \"4694\", \"Games\": 2175, \"Training #\": \"1307026\"}, {\"Network #\": 33, \"Upload Date\": \"2017-12-22 19:45\", \"Hash\": \"aaa33e89\", \"Size\": \"64x5\", \"Elo\": \"4619\", \"Games\": 11197, \"Training #\": \"1295016\"}, {\"Network #\": 32, \"Upload Date\": \"2017-12-21 16:15\", \"Hash\": \"7ba9d22c\", \"Size\": \"64x5\", \"Elo\": \"4552\", \"Games\": 39240, \"Training #\": \"1253322\"}, {\"Network #\": 31, \"Upload Date\": \"2017-12-21 04:39\", \"Hash\": \"6140dc2e\", \"Size\": \"64x5\", \"Elo\": \"4475\", \"Games\": 16003, \"Training #\": \"1242298\"}, {\"Network #\": 30, \"Upload Date\": \"2017-12-21 01:27\", \"Hash\": \"273a029d\", \"Size\": \"64x5\", \"Elo\": \"4351\", \"Games\": 1092, \"Training #\": \"1242298\"}, {\"Network #\": 29, \"Upload Date\": \"2017-12-19 22:29\", \"Hash\": \"657f91c7\", \"Size\": \"64x5\", \"Elo\": \"4244\", \"Games\": 34864, \"Training #\": \"1215129\"}, {\"Network #\": 28, \"Upload Date\": \"2017-12-19 14:18\", \"Hash\": \"154eaebd\", \"Size\": \"64x5\", \"Elo\": \"4168\", \"Games\": 12493, \"Training #\": \"1204550\"}, {\"Network #\": 27, \"Upload Date\": \"2017-12-18 23:44\", \"Hash\": \"ce1aa643\", \"Size\": \"64x5\", \"Elo\": \"4010\", \"Games\": 17064, \"Training #\": \"1184723\"}, {\"Network #\": 26, \"Upload Date\": \"2017-12-18 07:50\", \"Hash\": \"0eb8b23b\", \"Size\": \"64x5\", \"Elo\": \"3964\", \"Games\": 23810, \"Training #\": \"1163371\"}, {\"Network #\": 25, \"Upload Date\": \"2017-12-17 15:54\", \"Hash\": \"808ac5f3\", \"Size\": \"64x5\", \"Elo\": \"3808\", \"Games\": 15947, \"Training #\": \"1143566\"}, {\"Network #\": 24, \"Upload Date\": \"2017-12-16 16:46\", \"Hash\": \"3382a7d3\", \"Size\": \"64x5\", \"Elo\": \"3726\", \"Games\": 34833, \"Training #\": \"1105000\"}, {\"Network #\": 23, \"Upload Date\": \"2017-12-16 06:25\", \"Hash\": \"4e4d09be\", \"Size\": \"64x5\", \"Elo\": \"3523\", \"Games\": 7009, \"Training #\": \"1095000\"}, {\"Network #\": 22, \"Upload Date\": \"2017-12-15 21:09\", \"Hash\": \"3ba92804\", \"Size\": \"64x5\", \"Elo\": \"3425\", \"Games\": 16320, \"Training #\": \"1080000\"}, {\"Network #\": 21, \"Upload Date\": \"2017-12-15 16:46\", \"Hash\": \"d11131e3\", \"Size\": \"64x5\", \"Elo\": \"3305\", \"Games\": 6650, \"Training #\": \"1070000\"}, {\"Network #\": 20, \"Upload Date\": \"2017-12-14 21:19\", \"Hash\": \"251b7ca8\", \"Size\": \"64x5\", \"Elo\": \"3197\", \"Games\": 27205, \"Training #\": \"1050000\"}, {\"Network #\": 19, \"Upload Date\": \"2017-12-14 15:48\", \"Hash\": \"e671af6f\", \"Size\": \"64x5\", \"Elo\": \"3077\", \"Games\": 7939, \"Training #\": \"1035000\"}, {\"Network #\": 18, \"Upload Date\": \"2017-12-13 06:21\", \"Hash\": \"4701bb9f\", \"Size\": \"64x5\", \"Elo\": \"2923\", \"Games\": 24559, \"Training #\": \"1000000\"}, {\"Network #\": 17, \"Upload Date\": \"2017-12-12 06:33\", \"Hash\": \"5bcb392e\", \"Size\": \"64x5\", \"Elo\": \"2893\", \"Games\": 38353, \"Training #\": \"970000\"}, {\"Network #\": 16, \"Upload Date\": \"2017-12-11 18:59\", \"Hash\": \"fe7a6c28\", \"Size\": \"64x5\", \"Elo\": \"2604\", \"Games\": 20389, \"Training #\": \"955000\"}, {\"Network #\": 15, \"Upload Date\": \"2017-12-11 12:07\", \"Hash\": \"a0d3531f\", \"Size\": \"64x5\", \"Elo\": \"2381\", \"Games\": 9515, \"Training #\": \"945000\"}, {\"Network #\": 14, \"Upload Date\": \"2017-12-11 06:43\", \"Hash\": \"96bf20e7\", \"Size\": \"64x5\", \"Elo\": \"2255\", \"Games\": 7192, \"Training #\": \"920000\"}, {\"Network #\": 13, \"Upload Date\": \"2017-12-09 19:13\", \"Hash\": \"1607dbea\", \"Size\": \"64x5\", \"Elo\": \"1927\", \"Games\": 28131, \"Training #\": \"890000\"}, {\"Network #\": 12, \"Upload Date\": \"2017-12-09 08:22\", \"Hash\": \"eebb910d\", \"Size\": \"64x5\", \"Elo\": \"1732\", \"Games\": 18400, \"Training #\": \"860000\"}, {\"Network #\": 11, \"Upload Date\": \"2017-12-07 13:07\", \"Hash\": \"2184b750\", \"Size\": \"64x5\", \"Elo\": \"1665\", \"Games\": 68977, \"Training #\": \"815000\"}, {\"Network #\": 10, \"Upload Date\": \"2017-12-06 09:42\", \"Hash\": \"ad8a1d02\", \"Size\": \"64x5\", \"Elo\": \"1650\", \"Games\": 75393, \"Training #\": \"735000\"}, {\"Network #\": 9, \"Upload Date\": \"2017-12-03 22:46\", \"Hash\": \"6f274ab1\", \"Size\": \"64x5\", \"Elo\": \"1523\", \"Games\": 137868, \"Training #\": \"585000\"}, {\"Network #\": 8, \"Upload Date\": \"2017-11-30 22:25\", \"Hash\": \"22373747\", \"Size\": \"64x5\", \"Elo\": \"1282\", \"Games\": 111578, \"Training #\": \"485000\"}, {\"Network #\": 7, \"Upload Date\": \"2017-11-25 13:16\", \"Hash\": \"92c658d7\", \"Size\": \"64x5\", \"Elo\": \"917\", \"Games\": 192872, \"Training #\": \"292000\"}, {\"Network #\": 6, \"Upload Date\": \"2017-11-24 16:08\", \"Hash\": \"a1151640\", \"Size\": \"64x5\", \"Elo\": \"892\", \"Games\": 36363, \"Training #\": \"265000\"}, {\"Network #\": 5, \"Upload Date\": \"2017-11-21 14:37\", \"Hash\": \"1ac2638d\", \"Size\": \"64x5\", \"Elo\": \"542\", \"Games\": 104810, \"Training #\": \"137000\"}, {\"Network #\": 4, \"Upload Date\": \"2017-11-21 08:06\", \"Hash\": \"857b975e\", \"Size\": \"32x4\", \"Elo\": \"532\", \"Games\": 15178, \"Training #\": \"107000\"}, {\"Network #\": 3, \"Upload Date\": \"2017-11-19 11:44\", \"Hash\": \"4d9a5cfc\", \"Size\": \"32x4\", \"Elo\": \"477\", \"Games\": 76711, \"Training #\": \"62000\"}, {\"Network #\": 2, \"Upload Date\": \"2017-11-17 08:09\", \"Hash\": \"fe3f6afd\", \"Size\": \"32x4\", \"Elo\": \"91\", \"Games\": 44001, \"Training #\": \"19000\"}, {\"Network #\": 1, \"Upload Date\": \"2017-11-15 17:07\", \"Hash\": \"e6779c9b\", \"Size\": \"8x1\", \"Elo\": \"164\", \"Games\": 23639, \"Training #\": \"9000\"}, {\"Network #\": 0, \"Upload Date\": \"2017-11-10 13:04\", \"Hash\": \"d645af97\", \"Size\": \"8x1\", \"Elo\": \"0\", \"Games\": 15036, \"Training #\": \"0\"}]}, \"mark\": \"bar\", \"encoding\": {\"color\": {\"type\": \"nominal\", \"field\": \"Size\"}, \"x\": {\"type\": \"quantitative\", \"field\": \"Network #\"}, \"y\": {\"type\": \"quantitative\", \"field\": \"Games\"}}, \"$schema\": \"https://vega.github.io/schema/vega-lite/v2.4.1.json\"};\n",
              "    var embed_opt = {\"mode\": \"vega-lite\"};\n",
              "\n",
              "    function showError(el, error){\n",
              "        el.innerHTML = ('<div class=\"error\">'\n",
              "                        + '<p>JavaScript Error: ' + error.message + '</p>'\n",
              "                        + \"<p>This usually means there's a typo in your chart specification. \"\n",
              "                        + \"See the javascript console for the full traceback.</p>\"\n",
              "                        + '</div>');\n",
              "        throw error;\n",
              "    }\n",
              "    const el = document.getElementById('vis');\n",
              "    vegaEmbed(\"#vis\", spec, embed_opt)\n",
              "      .catch(error => showError(el, error));\n",
              "  </script>\n",
              "</body>\n",
              "</html>\n"
            ]
          },
          "metadata": {
            "tags": []
          },
          "execution_count": 16
        }
      ]
    },
    {
      "metadata": {
        "id": "znC-F2iKJbNW",
        "colab_type": "code",
        "colab": {}
      },
      "cell_type": "code",
      "source": [
        ""
      ],
      "execution_count": 0,
      "outputs": []
    }
  ]
}